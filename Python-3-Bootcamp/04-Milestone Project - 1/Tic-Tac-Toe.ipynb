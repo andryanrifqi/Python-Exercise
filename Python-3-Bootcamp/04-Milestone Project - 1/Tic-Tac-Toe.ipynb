{
 "cells": [
  {
   "cell_type": "code",
   "execution_count": 35,
   "metadata": {},
   "outputs": [],
   "source": [
    "from IPython.display import clear_output as reset\n",
    "\n",
    "def create_board(board):\n",
    "    reset()\n",
    "    print(' ' + board[7] + ' | ' + board[8] + ' | ' + board[9])\n",
    "    print('===+===+===')\n",
    "    print(' ' + board[4] + ' | ' + board[5] + ' | ' + board[6])\n",
    "    print('===+===+===')\n",
    "    print(' ' + board[1] + ' | ' + board[2] + ' | ' + board[3])"
   ]
  },
  {
   "cell_type": "code",
   "execution_count": 46,
   "metadata": {},
   "outputs": [],
   "source": [
    "def player_choice():\n",
    "    mark = ''\n",
    "    \n",
    "    while not (mark == 'X' or mark == 'O'):\n",
    "        mark = input('Player 1: Do you want to be X or O? ').upper()\n",
    "\n",
    "    if mark == 'X':\n",
    "        return(mark, 'O')\n",
    "    else:\n",
    "        return(mark, 'X')"
   ]
  },
  {
   "cell_type": "code",
   "execution_count": 33,
   "metadata": {},
   "outputs": [],
   "source": [
    "def place_mark(board, mark, location):\n",
    "    board[location] = mark"
   ]
  },
  {
   "cell_type": "code",
   "execution_count": 38,
   "metadata": {},
   "outputs": [],
   "source": [
    "def win_check(board,mark):\n",
    "    \n",
    "    return ((board[1] == mark and board[2] == mark and board[3] == mark) or # across the top\n",
    "    (board[4] == mark and board[5] == mark and board[6] == mark) or # across the middle\n",
    "    (board[7] == mark and board[8] == mark and board[9] == mark) or # across the bottom\n",
    "    (board[7] == mark and board[4] == mark and board[1] == mark) or # down the left side\n",
    "    (board[8] == mark and board[5] == mark and board[2] == mark) or # down the middle\n",
    "    (board[9] == mark and board[6] == mark and board[3] == mark) or # down the right side\n",
    "    (board[7] == mark and board[5] == mark and board[3] == mark) or # diagonal up-left to bot-right\n",
    "    (board[9] == mark and board[5] == mark and board[1] == mark)) # diagonal up-right to bot-left"
   ]
  },
  {
   "cell_type": "code",
   "execution_count": 41,
   "metadata": {},
   "outputs": [],
   "source": [
    "import random\n",
    "\n",
    "def first_turn():\n",
    "    if random.randint(0, 1) == 0:\n",
    "        return 'Player 1'\n",
    "    else:\n",
    "        return 'Player 2'"
   ]
  },
  {
   "cell_type": "code",
   "execution_count": 43,
   "metadata": {},
   "outputs": [],
   "source": [
    "def empty(board, location):\n",
    "    \n",
    "    return board[location] == ' '"
   ]
  },
  {
   "cell_type": "code",
   "execution_count": 44,
   "metadata": {},
   "outputs": [],
   "source": [
    "def full_board(board):\n",
    "    for i in range(1,10):\n",
    "        if empty(board, i):\n",
    "            return False\n",
    "    return True"
   ]
  },
  {
   "cell_type": "code",
   "execution_count": 50,
   "metadata": {},
   "outputs": [],
   "source": [
    "def player_move(board):\n",
    "    location = 0\n",
    "    \n",
    "    while location not in [1,2,3,4,5,6,7,8,9] or not empty(board, location):\n",
    "        location = int(input('Make your move! (1-9) '))\n",
    "        \n",
    "    return location"
   ]
  },
  {
   "cell_type": "code",
   "execution_count": 45,
   "metadata": {},
   "outputs": [],
   "source": [
    "def restart():\n",
    "    \n",
    "    return input('Restart the game? (Y/N) ').lower() == 'y'"
   ]
  },
  {
   "cell_type": "code",
   "execution_count": 51,
   "metadata": {},
   "outputs": [
    {
     "name": "stdout",
     "output_type": "stream",
     "text": [
      "   | O | O\n",
      "===+===+===\n",
      " X | X | X\n",
      "===+===+===\n",
      " O | X | O\n",
      "Player 1 has won the game!\n"
     ]
    }
   ],
   "source": [
    "print('Tic Tac Toe')\n",
    "\n",
    "while True:\n",
    "    board = [' '] * 10\n",
    "    player1_mark, player2_mark = player_choice()\n",
    "    turn = first_turn()\n",
    "    print(turn + ' have the first turn!')\n",
    "    \n",
    "    start = input('Start the game? (Y/N)')\n",
    "    \n",
    "    if start.lower() == 'y':\n",
    "        game = True\n",
    "    else:\n",
    "        game = False\n",
    "\n",
    "    while game:\n",
    "        if turn == 'Player 1':\n",
    "            create_board(board)\n",
    "            location = player_move(board)\n",
    "            place_mark(board, player1_mark, location)\n",
    "\n",
    "            if win_check(board, player1_mark):\n",
    "                create_board(board)\n",
    "                print('Player 1 has won the game!')\n",
    "                game = False\n",
    "            else:\n",
    "                if full_board(board):\n",
    "                    create_board(board)\n",
    "                    print('It\\'s a draw!')\n",
    "                    break\n",
    "                else:\n",
    "                    turn = 'Player 2'\n",
    "\n",
    "        else:\n",
    "            create_board(board)\n",
    "            location = player_move(board)\n",
    "            place_mark(board, player2_mark, location)\n",
    "\n",
    "            if win_check(board, player2_mark):\n",
    "                create_board(board)\n",
    "                print('Player 2 has won the game!')\n",
    "                game = False\n",
    "            else:\n",
    "                if full_board(board):\n",
    "                    create_board(board)\n",
    "                    print('It\\'s a draw!')\n",
    "                    break\n",
    "                else:\n",
    "                    turn = 'Player 1'\n",
    "\n",
    "    if not restart():\n",
    "        break"
   ]
  },
  {
   "cell_type": "markdown",
   "metadata": {},
   "source": [
    "## Good Job!"
   ]
  }
 ],
 "metadata": {
  "kernelspec": {
   "display_name": "Python 3",
   "language": "python",
   "name": "python3"
  },
  "language_info": {
   "codemirror_mode": {
    "name": "ipython",
    "version": 3
   },
   "file_extension": ".py",
   "mimetype": "text/x-python",
   "name": "python",
   "nbconvert_exporter": "python",
   "pygments_lexer": "ipython3",
   "version": "3.12.4"
  }
 },
 "nbformat": 4,
 "nbformat_minor": 2
}
